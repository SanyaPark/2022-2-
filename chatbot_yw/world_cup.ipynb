{
 "cells": [
  {
   "cell_type": "code",
   "execution_count": 118,
   "metadata": {},
   "outputs": [],
   "source": [
    "import pandas as pd\n",
    "import re"
   ]
  },
  {
   "cell_type": "markdown",
   "metadata": {},
   "source": [
    "고려사항: \n",
    "\n",
    "선수 이름 ==> 바로 출력 (했엉)\n",
    "나라 이름 { 나라 만들었음\n",
    "나라 & 포지션 (포지션 만들었음)==> 해당 나라 해당 포지션인 선수들 출력(했어)\n",
    "나라 & 번호 (번호는 그냥 읽으면 된다. )==> 해당 나라의 해당 번호 출력(했어)\n",
    "나라& '선수'라는 단어 ==> 선수 정보 전부 출력\n",
    "나라 이름만 ==> 헤당 나라의 정보 (했음)}\n",
    "\n",
    "\n",
    "\n"
   ]
  },
  {
   "cell_type": "code",
   "execution_count": 119,
   "metadata": {},
   "outputs": [],
   "source": [
    "def team_info_2(user_input:'str'):\n",
    "    data = pd.read_csv('team.txt')\n",
    "    for i in range(32):\n",
    "        if(data.loc[i , '국가'] in user_input):\n",
    "            #print(data.loc[i])\n",
    "            print(data.loc[i , '국가'],' 국가는 이번 월드컵', data.loc[i, \" 소속 조\"],'에 소속되어 있으며 피파 랭킹은' ,data.loc[i, \" 피파 랭킹\"],' 입니다. 또한 이번 월드컵은 ', data.loc[i , '국가'],'의',data.loc[i, \" 출전 횟수\"], '입니다.',sep = \"\" )\n",
    "            \n",
    "    return "
   ]
  },
  {
   "cell_type": "code",
   "execution_count": 129,
   "metadata": {},
   "outputs": [
    {
     "name": "stdout",
     "output_type": "stream",
     "text": [
      "일본 국가는 이번 월드컵 E조에 소속되어 있으며 피파 랭킹은 24위 입니다. 또한 이번 월드컵은 일본의 7번째_출전 입니다.\n",
      "포루투갈 국가는 이번 월드컵 H조에 소속되어 있으며 피파 랭킹은 9위 입니다. 또한 이번 월드컵은 포루투갈의 8번째_출전 입니다.\n",
      "가나 국가는 이번 월드컵 H조에 소속되어 있으며 피파 랭킹은 59위 입니다. 또한 이번 월드컵은 가나의 3번쨰_출전 입니다.\n",
      "대한민국 국가는 이번 월드컵 H조에 소속되어 있으며 피파 랭킹은 28위 입니다. 또한 이번 월드컵은 대한민국의 10번째_출전 입니다.\n"
     ]
    }
   ],
   "source": [
    "team_info_2(\"포루투갈 일본 대한민국 가나 정보 알려줘\")"
   ]
  },
  {
   "cell_type": "code",
   "execution_count": null,
   "metadata": {},
   "outputs": [],
   "source": [
    "PLlist =['KOR_player.txt',\n",
    "         'JPN_player.txt',\n",
    "         'AUS_player.txt',\n",
    "         'URU_player.txt',\n",
    "         'BEL_player.txt',\n",
    "         'BRA_player.txt',\n",
    "         'CAN_player.txt',\n",
    "         'CMR_player.txt',\n",
    "         'DEN_player.txt',\n",
    "         'CRO_player.txt',\n",
    "         'CRC_player.txt',\n",
    "         'ECU_player.txt',\n",
    "         'ENG_player.txt',\n",
    "         'ESP_player.txt',\n",
    "         'FRA_player.txt',\n",
    "         'GER_player.txt',\n",
    "         'GHA_player.txt',\n",
    "         'IRN_player.txt',\n",
    "         'KSA_player.txt',\n",
    "         'MAR_player.txt',\n",
    "         'MEX_player.txt',\n",
    "         'NED_player.txt',\n",
    "         'POL_player.txt',\n",
    "         'POR_player.txt',\n",
    "         'QAT_player.txt',\n",
    "         'SEN_player.txt',\n",
    "         'SUI_player.txt',\n",
    "         'SRB_player.txt',\n",
    "         'TUN_player.txt',\n",
    "         'ARG_player.txt',\n",
    "         'USA_player.txt',\n",
    "         'WAL_player.txt'\n",
    "         ]\n"
   ]
  },
  {
   "cell_type": "code",
   "execution_count": 231,
   "metadata": {},
   "outputs": [],
   "source": [
    "def player_info2(user_input):\n",
    "    \n",
    "    for i in PLlist:\n",
    "        data = pd.read_csv(i)\n",
    "        #print(data.get(0))\n",
    "        #print(i)\n",
    "        #print(data)\n",
    "        국가 = 0\n",
    "        if i =='KOR_player.txt':\n",
    "            국가 = \"대한민국\"\n",
    "        elif i =='JPN_player.txt':\n",
    "            국가 = '일본'\n",
    "        elif i =='AUS_player.txt':\n",
    "            국가 = '호주'\n",
    "        elif i =='URU_player.txt':\n",
    "                국가 = '우르과이'\n",
    "        elif i =='BEL_player.txt':\n",
    "            국가 = '벨기에'\n",
    "        elif i =='BRA_player.txt':\n",
    "            국가 = '브라질'\n",
    "        elif i =='CAN_player.txt':\n",
    "            국가 = '캐나다'\n",
    "        elif i =='CMR_player.txt':\n",
    "            국가 = '카메룬'\n",
    "        elif i =='DEN_player.txt':\n",
    "            국가 = '덴마크'\n",
    "        elif i =='CRO_player.txt':\n",
    "            국가 = '크로아티아'\n",
    "        elif i =='CRC_player.txt':\n",
    "            국가 = '코스타리카'\n",
    "        elif i =='ECU_player.txt':\n",
    "            국가 = '에콰도르'\n",
    "        elif i =='ENG_player.txt':\n",
    "            국가 = '잉글랜드'\n",
    "        elif i =='ESP_player.txt':\n",
    "            국가 = '스페인'\n",
    "        elif i =='FRA_player.txt':\n",
    "            국가 = '프랑스'\n",
    "        elif i =='GER_player.txt':\n",
    "            국가 = '독일'\n",
    "        elif i =='GHA_player.txt':\n",
    "            국가 = '가나'\n",
    "        elif i =='IRN_player.txt':\n",
    "            국가 = '이란'\n",
    "        elif i =='KSA_player.txt':\n",
    "            국가 = '사우디 아라비아'\n",
    "        elif i =='MAR_player.txt':\n",
    "            국가 = '모로코'\n",
    "        elif i =='MEX_player.txt':\n",
    "            국가 = '멕시코'\n",
    "        elif i =='NED_player.txt':\n",
    "            국가 = '네덜란드'\n",
    "        elif i =='POL_player.txt':\n",
    "            국가 = '폴란드'\n",
    "        elif i =='POR_player.txt':\n",
    "            국가 = '포루투갈'\n",
    "        elif i =='QAT_player.txt':\n",
    "            국가 = '카타르'\n",
    "        elif i =='SEN_player.txt':\n",
    "            국가 = '세네갈'\n",
    "        elif i =='SRB_player.txt':\n",
    "            국가 = '세르비아'\n",
    "        elif i =='SUI_player.txt':\n",
    "            국가 = '스위스'\n",
    "        elif i =='TUN_player.txt':\n",
    "            국가 = '튀니지'\n",
    "        elif i =='ARG_player.txt':\n",
    "            국가 = '아르헨티나'\n",
    "        elif i =='USA_player.txt':\n",
    "            국가 = '미국'\n",
    "        elif i =='WAL_player.txt':\n",
    "            국가 = '웨일스'\n",
    "        for j in range(len(data)):\n",
    "            if (user_input in data.loc[j, ' 이름']) or (data.loc[j, ' 이름'] in user_input ):\n",
    "                print(data.loc[j, ' 이름'],\" 선수는 \", 국가,\"팀의 \", data.loc[j, ' 등 번호'],'번 선수입니다. ','포지션은 ',data.loc[j, '포지션'],'이며 ', data.loc[j, ' 생년월일'],'생으로', data.loc[j, ' 나이'],'입니다. 국가 대표 경기 출전 횟수는 ',data.loc[j, ' 국가대표 경기 출전 횟수'],'번 이며 ',data.loc[j, ' 골 수'],'골을 기록하였으며 현재 소속팀은 ',data.loc[j, ' 현재 소속 팀'],'입니다.' ,sep = '')\n",
    "                return 1\n",
    "    return 0"
   ]
  },
  {
   "cell_type": "code",
   "execution_count": 232,
   "metadata": {},
   "outputs": [
    {
     "name": "stdout",
     "output_type": "stream",
     "text": [
      "손흥민 선수는 대한민국팀의 7번 선수입니다. 포지션은 MF이며  1992년 7월 8일생으로 (30세)입니다. 국가 대표 경기 출전 횟수는 104번 이며  35골을 기록하였으며 현재 소속팀은  토트넘 홋스퍼 FC입니다.\n",
      "1\n"
     ]
    }
   ],
   "source": [
    "player = -1\n",
    "\n",
    "player = player_info2(\" 손흥민 선수\")\n",
    "\n",
    "print(player)"
   ]
  },
  {
   "cell_type": "code",
   "execution_count": null,
   "metadata": {},
   "outputs": [],
   "source": []
  },
  {
   "cell_type": "code",
   "execution_count": 125,
   "metadata": {},
   "outputs": [],
   "source": [
    "def team_info():\n",
    "    input_val = input(\"정보를 알고 싶은 국가의 이름을 입력해주세요.\")\n",
    "    data = pd.read_csv('team.txt')\n",
    "    for i in range(32):\n",
    "        if data.loc[i, \"국가\"] == input_val:\n",
    "            print(input_val,'은 이번 월드컵', data.loc[i, \" 소속 조\"],'에 소속되어 있으며 피파 랭킹은' ,data.loc[i, \" 피파 랭킹\"],'입니다. 또한 이번 월드컵은', input_val,'의',data.loc[i, \" 출전 횟수\"], '입니다.' )"
   ]
  },
  {
   "cell_type": "code",
   "execution_count": 126,
   "metadata": {},
   "outputs": [],
   "source": [
    "def player_info():\n",
    "    con = input(\"정보를 알고자 하는 선수의 국가를 입력해주세요.\")\n",
    "    if (con == \"대한민국\") or (con == \"대한민국\")or(con ==\"한국\") or (con ==\"우리나라\") or (con ==\"우리 나라\"):\n",
    "        data = pd.read_csv('KOR_player.txt')\n",
    "    elif (con == \"일본\" )or (con ==\"왜\"):\n",
    "        data = pd.read_csv('JPN_player.txt')\n",
    "    elif (con == \"오스트렐리아\") or (con ==\"호주\"):\n",
    "        data = pd.read_csv('AUS_player.txt')\n",
    "    elif (con == \"우르과이\") or (con ==\"우루과이\"):\n",
    "        data = pd.read_csv('URU_player.txt')\n",
    "    elif con == \"벨기에\":\n",
    "        data = pd.read_csv('BEL_player.txt')\n",
    "    elif con == \"브라질\":\n",
    "        data = pd.read_csv('BRA_player.txt')\n",
    "    elif con == \"캐나다\":\n",
    "        data = pd.read_csv('CAN_player.txt')\n",
    "    elif con == \"카메룬\":\n",
    "        data = pd.read_csv('CMR_player.txt')\n",
    "    elif con == \"크로아티아\":\n",
    "        data = pd.read_csv('CRO_player.txt')\n",
    "    elif con == \"코스타리카\":\n",
    "        data = pd.read_csv('CRC_player.txt')\n",
    "    elif con == \"에콰도르\":\n",
    "        data = pd.read_csv('ECU_player.txt')\n",
    "    elif con == \"잉글랜드\":\n",
    "        data = pd.read_csv('ENG_player.txt')\n",
    "    elif con == \"스페인\":\n",
    "        data = pd.read_csv('ESP_player.txt')\n",
    "    elif con == \"프랑스\":\n",
    "        data = pd.read_csv('FRA_player.txt')\n",
    "    elif con == \"독일\":\n",
    "        data = pd.read_csv('GER_player.txt')\n",
    "    elif con == \"가나\":\n",
    "        data = pd.read_csv('GHA_player.txt')\n",
    "    elif con == \"이란\":\n",
    "        data = pd.read_csv('IRN_player.txt')\n",
    "    elif (con == \"사우디라아비아\") or (con ==\"사우디\"):\n",
    "        data = pd.read_csv('KSA_player.txt')\n",
    "    elif con == \"모로코\":\n",
    "        data = pd.read_csv('MAR_player.txt')\n",
    "    elif con == \"멕시코\":\n",
    "        data = pd.read_csv('MEX_player.txt')\n",
    "    elif con == \"네덜란드\":\n",
    "        data = pd.read_csv('NED_player.txt')\n",
    "    elif con == \"폴란드\":\n",
    "        data = pd.read_csv('POL_player.txt')\n",
    "    elif (con == \"포루투갈\") or (con ==\"포르투갈\"):\n",
    "        data = pd.read_csv('POR_player.txt')\n",
    "    elif con == \"카타르\":\n",
    "        data = pd.read_csv('QAT_player.txt')\n",
    "    elif con == \"세네갈\":\n",
    "        data = pd.read_csv('SEN_player.txt')\n",
    "    elif con == \"스위스\":\n",
    "        data = pd.read_csv('SUI_player.txt')\n",
    "    elif con == \"세르비아\":\n",
    "        data = pd.read_csv('SRB_player.txt')\n",
    "    elif con == \"튀니지\":\n",
    "        data = pd.read_csv('TUN_player.txt')\n",
    "    elif con == \"아르헨티나\":\n",
    "        data = pd.read_csv('ARG_player.txt')\n",
    "    elif con == \"미국\":\n",
    "        data = pd.read_csv('USA_player.txt')\n",
    "    elif con == \"웨일스\":\n",
    "        data = pd.read_csv('WAL_player.txt')\n",
    "    else:\n",
    "        print(\"올바른 나라이름을 입력해주세요\")\n",
    "\n",
    "    para = input(\" 선수 이름 혹은 등번호를 입력해주세요.\")\n",
    "    result = -1    \n",
    "    if (any(temp. isdigit() for temp in para)):                                                                                             \n",
    "        result = int(re.sub(r'[^0-9]', '', para))\n",
    "    if result != -1:\n",
    "        for i in range (26):\n",
    "            if data.loc[i,\" 등 번호\"] == result:\n",
    "                print(data.loc[i])\n",
    "                return\n",
    "    else: \n",
    "        for i in range (26):\n",
    "            if para in data.loc[i,\" 이름\"]:\n",
    "                print(data.loc[i])\n",
    "                return\n",
    "    print(\"정보를 올바르게 입력해주세요\")\n"
   ]
  },
  {
   "cell_type": "code",
   "execution_count": 155,
   "metadata": {},
   "outputs": [
    {
     "name": "stdout",
     "output_type": "stream",
     "text": [
      "포지션                              FW\n",
      " 등 번호                            10\n",
      " 이름                        베르나르두 실바\n",
      " 영문표기              (Bernardo Silva)\n",
      " 생년월일                  1994년 8월 10일\n",
      " 나이                           (28세)\n",
      " 국가대표 경기 출전 횟수                   72\n",
      " 골 수                              8\n",
      " 현재 소속 팀                 맨체스터 시티 FC\n",
      "Name: 19, dtype: object\n"
     ]
    }
   ],
   "source": [
    "player_info()"
   ]
  },
  {
   "cell_type": "code",
   "execution_count": null,
   "metadata": {},
   "outputs": [
    {
     "name": "stdout",
     "output_type": "stream",
     "text": [
      "스페인 은 이번 월드컵  E조 에 소속되어 있으며 피파 랭킹은  7위 입니다. 또한 이번 월드컵은 스페인 의  15번째_출전   입니다.\n"
     ]
    }
   ],
   "source": [
    "team_info()"
   ]
  },
  {
   "cell_type": "code",
   "execution_count": 263,
   "metadata": {},
   "outputs": [
    {
     "data": {
      "text/plain": [
       "pandas.core.frame.DataFrame"
      ]
     },
     "execution_count": 263,
     "metadata": {},
     "output_type": "execute_result"
    }
   ],
   "source": [
    "data = pd.read_csv(\"ESP_Player.txt\")\n",
    "type(data)"
   ]
  },
  {
   "cell_type": "code",
   "execution_count": 149,
   "metadata": {},
   "outputs": [],
   "source": [
    "GK = [\"골키퍼\" ,'골 키퍼' , 'GK' ,\"goal keeper\" , 'goalkeeper' , \"Goal keeper\" , 'Goalkeeper', \"Goal Keeper\" ,'GoalKeeper']\n",
    "FW = [\"공격수\", '공격', '스트라이커', 'FW', 'Forward', 'fw','Fw',\"forward\"]\n",
    "DF = ['수비수', '수비', 'DF', \"defend\",'Defencer','defencer', 'Defend']\n",
    "MF = ['미드필더', 'MF', 'Mf','Mid fielder','Midfielder','Mid Fielder','MidFielder','mid fielder','midfielder']"
   ]
  },
  {
   "cell_type": "code",
   "execution_count": 160,
   "metadata": {},
   "outputs": [],
   "source": [
    "def position_checker(user_input):\n",
    "    for i in GK:\n",
    "        if i in user_input:\n",
    "            return 'GK'\n",
    "    for i in FW:\n",
    "        if i in user_input:\n",
    "            return 'FW'\n",
    "    for i in DF:\n",
    "        if i in user_input:\n",
    "            return 'DF'\n",
    "    for i in MF:\n",
    "        if i in user_input:\n",
    "            return 'MF'\n",
    "        \n",
    "    return 0\n",
    "        \n",
    "        "
   ]
  },
  {
   "cell_type": "code",
   "execution_count": 173,
   "metadata": {},
   "outputs": [],
   "source": [
    "def team_checker(con):\n",
    "    data = -1\n",
    "    if (\"대한민국\" in con) or (\"대한 민국\" in con)or(\"한국\" in con) or (\"우리나라\" in con) or (\"우리 나라\" in con):\n",
    "        data = pd.read_csv('KOR_player.txt')\n",
    "    elif (\"일본\" in con)or (\"왜\" in con):\n",
    "        data = pd.read_csv('JPN_player.txt')\n",
    "    elif (\"오스트렐리아\" in con) or (\"호주\" in con):\n",
    "        data = pd.read_csv('AUS_player.txt')\n",
    "    elif (\"우르과이\" in con) or (\"우루과이\" in con):\n",
    "        data = pd.read_csv('URU_player.txt')\n",
    "    elif  \"벨기에\" in con:\n",
    "        data = pd.read_csv('BEL_player.txt')\n",
    "    elif  \"브라질\" in con:\n",
    "        data = pd.read_csv('BRA_player.txt')\n",
    "    elif \"캐나다\" in con:\n",
    "        data = pd.read_csv('CAN_player.txt')\n",
    "    elif \"카메룬\" in con:\n",
    "        data = pd.read_csv('CMR_player.txt')\n",
    "    elif \"크로아티아\" in con:\n",
    "        data = pd.read_csv('CRO_player.txt')\n",
    "    elif \"코스타리카\" in con:\n",
    "        data = pd.read_csv('CRC_player.txt')\n",
    "    elif \"에콰도르\" in con:\n",
    "        data = pd.read_csv('ECU_player.txt')\n",
    "    elif  \"잉글랜드\" in con:\n",
    "        data = pd.read_csv('ENG_player.txt')\n",
    "    elif\"스페인\" in con:\n",
    "        data = pd.read_csv('ESP_player.txt')\n",
    "    elif  \"프랑스\" in con:\n",
    "        data = pd.read_csv('FRA_player.txt')\n",
    "    elif \"독일\" in con:\n",
    "        data = pd.read_csv('GER_player.txt')\n",
    "    elif \"가나\" in con:\n",
    "        data = pd.read_csv('GHA_player.txt')\n",
    "    elif \"이란\" in con:\n",
    "        data = pd.read_csv('IRN_player.txt')\n",
    "    elif (\"사우디라아비아\" in con) or (\"사우디\" in con):\n",
    "        data = pd.read_csv('KSA_player.txt')\n",
    "    elif \"모로코\" in con:\n",
    "        data = pd.read_csv('MAR_player.txt')\n",
    "    elif \"멕시코\" in con:\n",
    "        data = pd.read_csv('MEX_player.txt')\n",
    "    elif \"네덜란드\" in con:\n",
    "        data = pd.read_csv('NED_player.txt')\n",
    "    elif  \"폴란드\" in con:\n",
    "        data = pd.read_csv('POL_player.txt')\n",
    "    elif ( \"포루투갈\" in con) or (\"포르투갈\" in con):\n",
    "        data = pd.read_csv('POR_player.txt')\n",
    "    elif \"카타르\" in con:\n",
    "        data = pd.read_csv('QAT_player.txt')\n",
    "    elif \"세네갈\" in con:\n",
    "        data = pd.read_csv('SEN_player.txt')\n",
    "    elif \"스위스\" in con:\n",
    "        data = pd.read_csv('SUI_player.txt')\n",
    "    elif \"세르비아\" in con:\n",
    "        data = pd.read_csv('SRB_player.txt')\n",
    "    elif \"튀니지\" in con :\n",
    "        data = pd.read_csv('TUN_player.txt')\n",
    "    elif \"아르헨티나\" in con:\n",
    "        data = pd.read_csv('ARG_player.txt')\n",
    "    elif \"미국\"in con:\n",
    "        data = pd.read_csv('USA_player.txt')\n",
    "    elif \"웨일스\" in con:\n",
    "        data = pd.read_csv('WAL_player.txt')\n",
    "    \n",
    "    return data\n",
    "    \n",
    "    \n",
    "    \n",
    "    \n",
    "\n",
    "        \n",
    "    "
   ]
  },
  {
   "cell_type": "code",
   "execution_count": 315,
   "metadata": {},
   "outputs": [],
   "source": [
    "def player_team_all(user_input):\n",
    "    #1. 만약 이름이 있으면 해당 이름을 출력해준다.\n",
    "    player = -1\n",
    "    player = player_info2(user_input)\n",
    "    #2.나라 이름이 들어있는지 확인한다.\n",
    "    #print(player)\n",
    "    if player == 1:\n",
    "        return\n",
    "    else:\n",
    "        data = 0 \n",
    "        data = team_checker(user_input)\n",
    "        #print(data)\n",
    "        #만약 나라 이름 있다면?\n",
    "        #print(1)\n",
    "        #print(type(data))\n",
    "        if  str(type(data) )== \"<class 'pandas.core.frame.DataFrame'>\":\n",
    "            #포지션을 확인한다.\n",
    "            #print(1)\n",
    "            pos = 0\n",
    "            pos = position_checker(user_input)\n",
    "            #만약 포지션이 있다면?\n",
    "            if pos != 0:\n",
    "                #추출 해둔 국가에서 해당 포지션을 가진 아이들을 모두 출력한다.\n",
    "                print(pos,'포지션을 가진 해당 국가의 선수는', end =\" \")\n",
    "                for i in range(len(data)):\n",
    "                    if data.loc[i , '포지션'] == pos:\n",
    "                        print(data.loc[i,' 이름'],end = ' ')\n",
    "                print(\"입니다.\") \n",
    "                return\n",
    "            elif (any(temp.isdigit() for temp in user_input)):  \n",
    "                #번호가 있다면 그 나라의 그 번호 선수 알려준다.                                                                                            \n",
    "                num = int(re.sub(r'[^0-9]', '', user_input))\n",
    "                for i in range (len(data)):\n",
    "                    if data.loc[i,\" 등 번호\"] == num:\n",
    "                        print(data.loc[i])\n",
    "                        return\n",
    "            elif ('선수' in user_input):\n",
    "                print(data)\n",
    "                return \n",
    "            else: \n",
    "                #나라 이름은 있는데 등번호도, 포지션도 없다면?\n",
    "                \n",
    "                team_info_2(user_input)\n",
    "                return\n",
    "        else:\n",
    "        #만약 나라 이름이 없는 상태라면?\n",
    "            print(\"입력을 확인해주세요. \\n 나라 이름, 선수 이름 등이 올바르게 입력하지 않을 경우 원하시는 정보가 나오지 않을 수 있습니다.\\n 이렇게 입력해 보시는 건 어떨까요?\\n  ==> '손흥민', '포르투갈 10번 선수' 등으로 정확하게 입력해주시면 더욱 자세하게 알려드릴 수 있습니다.\"  )"
   ]
  },
  {
   "cell_type": "code",
   "execution_count": 320,
   "metadata": {},
   "outputs": [
    {
     "name": "stdout",
     "output_type": "stream",
     "text": [
      "일본 국가는 이번 월드컵 E조에 소속되어 있으며 피파 랭킹은 24위 입니다. 또한 이번 월드컵은 일본의 7번째_출전 입니다.\n"
     ]
    }
   ],
   "source": [
    "player_team_all('일본')"
   ]
  }
 ],
 "metadata": {
  "interpreter": {
   "hash": "98590ff4fe04c8543246b2a01debd3de3c5ca9b666f43f1fa87d5110c692004c"
  },
  "kernelspec": {
   "display_name": "Python 3.10.4 64-bit",
   "language": "python",
   "name": "python3"
  },
  "language_info": {
   "codemirror_mode": {
    "name": "ipython",
    "version": 3
   },
   "file_extension": ".py",
   "mimetype": "text/x-python",
   "name": "python",
   "nbconvert_exporter": "python",
   "pygments_lexer": "ipython3",
   "version": "3.10.4"
  },
  "orig_nbformat": 4
 },
 "nbformat": 4,
 "nbformat_minor": 2
}
